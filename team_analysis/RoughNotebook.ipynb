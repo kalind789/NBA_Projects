{
 "cells": [
  {
   "cell_type": "code",
   "execution_count": 1,
   "id": "3fb24f47-3af6-4441-8cb0-6e448240bcf4",
   "metadata": {},
   "outputs": [],
   "source": [
    "!pip install --quiet beautifulsoup4 html5lib"
   ]
  },
  {
   "cell_type": "code",
   "execution_count": 2,
   "id": "264ae434-e0a6-4831-b0de-4925e96747aa",
   "metadata": {},
   "outputs": [],
   "source": [
    "import pandas as pd\n",
    "from bs4 import BeautifulSoup\n",
    "import requests"
   ]
  },
  {
   "cell_type": "code",
   "execution_count": null,
   "id": "93d9b888-dbe2-4702-97df-7bcfb4c3aa61",
   "metadata": {},
   "outputs": [],
   "source": [
    "team = \"ATL\"\n",
    "# url = f\"https://www.basketball-reference.com/teams/{team}/2026.html\"\n",
    "url = \"https://www.basketball-reference.com/teams/ATL/2026.html#roster\"\n",
    "\n",
    "# response = requests.get(url)\n",
    "# html_content = response.text\n",
    "\n",
    "roster_df = pd.read_html(url)"
   ]
  },
  {
   "cell_type": "code",
   "execution_count": null,
   "id": "d39f53c5-4e9b-414c-89af-349a26a3c6e1",
   "metadata": {},
   "outputs": [],
   "source": [
    "roster_df = roster_df[0]"
   ]
  },
  {
   "cell_type": "code",
   "execution_count": null,
   "id": "86ff3463-3c7e-4510-884d-98838fbb66e6",
   "metadata": {},
   "outputs": [],
   "source": [
    "roster_df"
   ]
  },
  {
   "cell_type": "code",
   "execution_count": null,
   "id": "d9277b74-7b12-4bb7-ab73-1c48a986319f",
   "metadata": {},
   "outputs": [],
   "source": [
    "roster_df = roster_df.drop(columns=[\"No.\"])"
   ]
  },
  {
   "cell_type": "code",
   "execution_count": null,
   "id": "6e801a64-32fb-4ba2-af14-13af132d2f6c",
   "metadata": {},
   "outputs": [],
   "source": [
    "roster_df"
   ]
  },
  {
   "cell_type": "code",
   "execution_count": null,
   "id": "548f1b39-1c8b-4f2a-929b-e11674b191ef",
   "metadata": {},
   "outputs": [],
   "source": [
    "roster_df[\"Birth\"] = roster_df[\"Birth\"].apply(lambda x: x.split()[1])"
   ]
  },
  {
   "cell_type": "code",
   "execution_count": null,
   "id": "9fdfe3e4-d353-4415-a568-38ce55d29128",
   "metadata": {},
   "outputs": [],
   "source": [
    "roster_df"
   ]
  },
  {
   "cell_type": "code",
   "execution_count": null,
   "id": "e7be00a5-7561-49db-bc37-7aa842542c48",
   "metadata": {},
   "outputs": [],
   "source": [
    "roster_df"
   ]
  },
  {
   "cell_type": "code",
   "execution_count": null,
   "id": "f261d02f-060d-455f-9385-0bd4755b3c5b",
   "metadata": {},
   "outputs": [],
   "source": [
    "salary_url = f\"https://www.basketball-reference.com/contracts/{team}.html#contracts\"\n",
    "salary_df = pd.read_html(salary_url)[0]\n",
    "salary_df"
   ]
  },
  {
   "cell_type": "code",
   "execution_count": null,
   "id": "b311208c-ccb8-46de-94d2-50f824fd2791",
   "metadata": {},
   "outputs": [],
   "source": [
    "salary_df = salary_df.droplevel(0, axis=1)"
   ]
  },
  {
   "cell_type": "code",
   "execution_count": null,
   "id": "90c47e96-868c-4fa8-8410-005cb50ee7e9",
   "metadata": {},
   "outputs": [],
   "source": [
    "salary_df"
   ]
  },
  {
   "cell_type": "code",
   "execution_count": null,
   "id": "4ad19539-ca6d-47d2-9a98-14de7c56c154",
   "metadata": {},
   "outputs": [],
   "source": [
    "salary_df = salary_df[[\"Player\", \"Age\", \"2025-26\"]]"
   ]
  },
  {
   "cell_type": "code",
   "execution_count": null,
   "id": "b2d4a45e-423d-4215-b385-a790b40683e9",
   "metadata": {},
   "outputs": [],
   "source": [
    "salary_df = salary_df.dropna()"
   ]
  },
  {
   "cell_type": "code",
   "execution_count": null,
   "id": "a691a860-6e08-400a-8167-5704403a38b4",
   "metadata": {},
   "outputs": [],
   "source": [
    "salary_df"
   ]
  },
  {
   "cell_type": "code",
   "execution_count": null,
   "id": "b6e3cb54-b079-4dfa-a3e7-0911788cf892",
   "metadata": {},
   "outputs": [],
   "source": [
    "combined_df = pd.merge(salary_df, roster_df, on=\"Player\", how=\"outer\").dropna()"
   ]
  },
  {
   "cell_type": "code",
   "execution_count": null,
   "id": "4ed840ba-46f8-431d-a4a7-a95e4103f40f",
   "metadata": {},
   "outputs": [],
   "source": [
    "combined_df"
   ]
  },
  {
   "cell_type": "code",
   "execution_count": null,
   "id": "ada312fd-c208-462f-ab57-693694570020",
   "metadata": {},
   "outputs": [],
   "source": [
    "combined_df = combined_df.sort_values(\"Player\")\n",
    "combined_df = combined_df.reset_index(drop=True)"
   ]
  },
  {
   "cell_type": "code",
   "execution_count": null,
   "id": "ad9c35b3-cf9d-44b7-be09-101c061d0828",
   "metadata": {},
   "outputs": [],
   "source": [
    "combined_df"
   ]
  },
  {
   "cell_type": "code",
   "execution_count": null,
   "id": "ed92645e-1fb3-406e-b308-3d957da6c4df",
   "metadata": {},
   "outputs": [],
   "source": [
    "combined_df[\"PlayerLabel\"] = combined_df[\"Player\"].str.replace(\" \", \"\\n\", 1)\n",
    "combined_df[\"Salary\"] = combined_df[\"2025-26\"]\n",
    "combined_df = combined_df.drop(columns=[\"2025-26\"])"
   ]
  },
  {
   "cell_type": "code",
   "execution_count": null,
   "id": "672e5240-35cd-4928-ae16-6ab2f5b455fe",
   "metadata": {},
   "outputs": [],
   "source": [
    "combined_df.head()"
   ]
  },
  {
   "cell_type": "code",
   "execution_count": null,
   "id": "a15e0874-79ae-4012-8f30-688d950aaa9b",
   "metadata": {},
   "outputs": [],
   "source": [
    "combined_df[\"Salary_number\"] = (combined_df[\"Salary\"].replace(r'[\\$,]', '', regex=True).astype('float')) / 1000000"
   ]
  },
  {
   "cell_type": "code",
   "execution_count": null,
   "id": "fc1308bf-2e30-411c-a7ba-d1f129f4cf10",
   "metadata": {},
   "outputs": [],
   "source": [
    "import seaborn as sns\n",
    "\n",
    "sns.set(font_scale=0.8)\n",
    "sns.scatterplot(combined_df, x=\"PlayerLabel\", y=\"Age\")"
   ]
  },
  {
   "cell_type": "code",
   "execution_count": null,
   "id": "633dbc8f-83c0-468f-826c-050ee6b7d727",
   "metadata": {},
   "outputs": [],
   "source": [
    "combined_df"
   ]
  },
  {
   "cell_type": "code",
   "execution_count": null,
   "id": "d97ae708-a08c-4a9a-9f51-aead5c258988",
   "metadata": {},
   "outputs": [],
   "source": [
    "sns.scatterplot(combined_df, x=\"Age\", y=\"Salary_number\")"
   ]
  },
  {
   "cell_type": "code",
   "execution_count": null,
   "id": "89e9aafe-a941-4e3c-aa79-e93f549c0dcd",
   "metadata": {},
   "outputs": [],
   "source": [
    "combined_df.describe()"
   ]
  },
  {
   "cell_type": "code",
   "execution_count": null,
   "id": "bd77b5c6-9e4b-4ff1-9b8f-41809b492e6f",
   "metadata": {},
   "outputs": [],
   "source": [
    "url = \"https://www.basketball-reference.com/teams/ATL/2026.html\"\n",
    "\n",
    "headers = {\"User-Agent\": \"Mozilla/5.0\"}\n",
    "html = requests.get(url, headers=headers, timeout=30).text\n",
    "soup = BeautifulSoup(html, \"html.parser\")\n",
    "\n",
    "# 1) Try visible table\n",
    "t = soup.find(\"table\", id=\"roster\")\n",
    "print(t)"
   ]
  },
  {
   "cell_type": "code",
   "execution_count": null,
   "id": "334e747a-c632-4f32-901e-668e3f82a315",
   "metadata": {},
   "outputs": [],
   "source": [
    "df = pd.read_html(html)[0]"
   ]
  }
 ],
 "metadata": {
  "kernelspec": {
   "display_name": "Python 3 (ipykernel)",
   "language": "python",
   "name": "python3"
  },
  "language_info": {
   "codemirror_mode": {
    "name": "ipython",
    "version": 3
   },
   "file_extension": ".py",
   "mimetype": "text/x-python",
   "name": "python",
   "nbconvert_exporter": "python",
   "pygments_lexer": "ipython3",
   "version": "3.12.4"
  }
 },
 "nbformat": 4,
 "nbformat_minor": 5
}
