{
 "cells": [
  {
   "cell_type": "code",
   "execution_count": 1,
   "id": "3e32a28c-23d1-4323-9b38-183b443e9253",
   "metadata": {},
   "outputs": [],
   "source": [
    "!pip install --quiet beautifulsoup4 html5lib"
   ]
  },
  {
   "cell_type": "code",
   "execution_count": 2,
   "id": "b343947d-c637-448b-af03-1a80a1a22650",
   "metadata": {},
   "outputs": [],
   "source": [
    "import pandas as pd\n",
    "from bs4 import BeautifulSoup\n",
    "import requests\n",
    "import time"
   ]
  },
  {
   "cell_type": "code",
   "execution_count": 3,
   "id": "1ee2cd19-e818-473a-b85c-053dc3029611",
   "metadata": {},
   "outputs": [],
   "source": [
    "teams = [\n",
    "    \"ATL\", \"BOS\", \"BRK\", \"CHO\", \"CHI\",\n",
    "    \"CLE\", \"DAL\", \"DEN\", \"DET\", \"GSW\",\n",
    "    \"HOU\", \"IND\", \"LAC\", \"LAL\", \"MEM\",\n",
    "    \"MIA\", \"MIL\", \"MIN\", \"NOP\", \"NYK\",\n",
    "    \"OKC\", \"ORL\", \"PHI\", \"PHO\", \"POR\",\n",
    "    \"SAC\", \"SAS\", \"TOR\", \"UTA\", \"WAS\"\n",
    "]"
   ]
  },
  {
   "cell_type": "code",
   "execution_count": null,
   "id": "ab12eeab-29b1-4cb3-8245-12b27b82c074",
   "metadata": {},
   "outputs": [
    {
     "name": "stdout",
     "output_type": "stream",
     "text": [
      "Added combined dataframe for Team: ATL, Length of list: 1\n",
      "Added combined dataframe for Team: BOS, Length of list: 2\n",
      "Added combined dataframe for Team: BRK, Length of list: 3\n",
      "Added combined dataframe for Team: CHO, Length of list: 4\n",
      "Added combined dataframe for Team: CHI, Length of list: 5\n",
      "Added combined dataframe for Team: CLE, Length of list: 6\n",
      "Added combined dataframe for Team: DAL, Length of list: 7\n",
      "Added combined dataframe for Team: DEN, Length of list: 8\n",
      "Added combined dataframe for Team: DET, Length of list: 9\n",
      "Added combined dataframe for Team: GSW, Length of list: 10\n",
      "Added combined dataframe for Team: HOU, Length of list: 11\n",
      "Added combined dataframe for Team: IND, Length of list: 12\n",
      "Added combined dataframe for Team: LAC, Length of list: 13\n",
      "Added combined dataframe for Team: LAL, Length of list: 14\n",
      "Added combined dataframe for Team: MEM, Length of list: 15\n",
      "Added combined dataframe for Team: MIA, Length of list: 16\n",
      "Added combined dataframe for Team: MIL, Length of list: 17\n",
      "Added combined dataframe for Team: MIN, Length of list: 18\n",
      "Added combined dataframe for Team: NOP, Length of list: 19\n",
      "Added combined dataframe for Team: NYK, Length of list: 20\n",
      "Added combined dataframe for Team: OKC, Length of list: 21\n",
      "Added combined dataframe for Team: ORL, Length of list: 22\n",
      "Added combined dataframe for Team: PHI, Length of list: 23\n",
      "Added combined dataframe for Team: PHO, Length of list: 24\n",
      "Added combined dataframe for Team: POR, Length of list: 25\n",
      "Added combined dataframe for Team: SAC, Length of list: 26\n",
      "Added combined dataframe for Team: SAS, Length of list: 27\n",
      "Added combined dataframe for Team: TOR, Length of list: 28\n",
      "Added combined dataframe for Team: UTA, Length of list: 29\n"
     ]
    }
   ],
   "source": [
    "all_dfs = []\n",
    "\n",
    "for team in teams:\n",
    "    # Roster\n",
    "    url = f\"https://www.basketball-reference.com/teams/{team}/2026.html#roster\"\n",
    "    roster_df = pd.read_html(url)[0]\n",
    "    roster_df = roster_df.drop(columns=[\"No.\", \"College\"])\n",
    "    roster_df[\"Birth\"] = roster_df[\"Birth\"].apply(lambda x: x.split()[1])\n",
    "\n",
    "    # Salaries\n",
    "    salary_url = f\"https://www.basketball-reference.com/contracts/{team}.html#contracts\"\n",
    "    salary_df = pd.read_html(salary_url)[0]\n",
    "    salary_df = salary_df.droplevel(0, axis=1)\n",
    "    salary_df = salary_df[[\"Player\", \"Age\", \"2025-26\"]]\n",
    "    salary_df = salary_df.dropna()\n",
    "    salary_df = salary_df.copy()\n",
    "\n",
    "    # Combine them\n",
    "    combined_df = pd.merge(salary_df, roster_df, on=\"Player\", how=\"outer\").dropna()\n",
    "    combined_df = combined_df.sort_values(\"Player\")\n",
    "    combined_df = combined_df.reset_index(drop=True)\n",
    "    combined_df[\"PlayerLabel\"] = combined_df[\"Player\"].str.replace(\" \", \"\\n\", 1)\n",
    "    combined_df[\"Salary\"] = combined_df[\"2025-26\"]\n",
    "    combined_df = combined_df.drop(columns=[\"2025-26\"])\n",
    "    combined_df[\"Salary_number\"] = (combined_df[\"Salary\"].replace(r'[\\$,]', '', regex=True).astype('float')) / 1000000\n",
    "    combined_df[\"Team\"] = team\n",
    "    combined_df = combined_df.copy()\n",
    "    \n",
    "    all_dfs.append(combined_df)\n",
    "    print(f\"Added combined dataframe for Team: {team}, Length of list: {len(all_dfs)}\")\n",
    "    time.sleep(10)"
   ]
  },
  {
   "cell_type": "code",
   "execution_count": 5,
   "id": "d160babe-8184-4d42-b6d4-370421923fcc",
   "metadata": {},
   "outputs": [
    {
     "data": {
      "text/plain": [
       "0"
      ]
     },
     "execution_count": 5,
     "metadata": {},
     "output_type": "execute_result"
    }
   ],
   "source": [
    "len(all_dfs)"
   ]
  },
  {
   "cell_type": "code",
   "execution_count": 9,
   "id": "80d8671b-d382-4b47-8e55-fe88aa26758a",
   "metadata": {},
   "outputs": [],
   "source": [
    "final_df = pd.concat(all_dfs)"
   ]
  },
  {
   "cell_type": "code",
   "execution_count": null,
   "id": "06341cdf-69de-4899-adf0-c3463af106e2",
   "metadata": {},
   "outputs": [],
   "source": [
    "final_df.to_csv(\"final_csv\")"
   ]
  }
 ],
 "metadata": {
  "kernelspec": {
   "display_name": "Python 3 (ipykernel)",
   "language": "python",
   "name": "python3"
  },
  "language_info": {
   "codemirror_mode": {
    "name": "ipython",
    "version": 3
   },
   "file_extension": ".py",
   "mimetype": "text/x-python",
   "name": "python",
   "nbconvert_exporter": "python",
   "pygments_lexer": "ipython3",
   "version": "3.12.4"
  }
 },
 "nbformat": 4,
 "nbformat_minor": 5
}
