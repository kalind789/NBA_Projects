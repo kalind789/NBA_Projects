{
 "cells": [
  {
   "cell_type": "markdown",
   "id": "89384906",
   "metadata": {},
   "source": [
    "https://www.kaggle.com/datasets/wyattowalsh/basketball"
   ]
  },
  {
   "cell_type": "code",
   "execution_count": 1,
   "id": "a05332a8",
   "metadata": {},
   "outputs": [],
   "source": [
    "import sqlite3"
   ]
  },
  {
   "cell_type": "code",
   "execution_count": 2,
   "id": "615b07cd",
   "metadata": {},
   "outputs": [],
   "source": [
    "conn = sqlite3.connect(\"nba.sqlite\")\n",
    "cursor = conn.cursor()"
   ]
  },
  {
   "cell_type": "code",
   "execution_count": 3,
   "id": "b36ce523",
   "metadata": {},
   "outputs": [],
   "source": [
    "query = \"SELECT display_first_last, person_id FROM common_player_info WHERE display_first_last LIKE 'K%Jabbar'\"\n",
    "cursor.execute(query)\n",
    "rows = cursor.fetchall()"
   ]
  },
  {
   "cell_type": "code",
   "execution_count": 4,
   "id": "0acea639",
   "metadata": {},
   "outputs": [
    {
     "data": {
      "text/plain": [
       "[('Kareem Abdul-Jabbar', '76003')]"
      ]
     },
     "execution_count": 4,
     "metadata": {},
     "output_type": "execute_result"
    }
   ],
   "source": [
    "rows"
   ]
  },
  {
   "cell_type": "code",
   "execution_count": null,
   "id": "89b1b37a",
   "metadata": {},
   "outputs": [],
   "source": [
    "query = \"\"\" \n",
    "            SELECT team_id, team_name, COUNT(overall_pick) AS first_picks\n",
    "            FROM draft_history\n",
    "            WHERE overall_pick = '1'\n",
    "            GROUP BY team_id\n",
    "            ORDER BY first_picks DESC;\n",
    "        \"\"\"\n",
    "\n",
    "cursor.execute(query)\n",
    "rows = cursor.fetchall()"
   ]
  },
  {
   "cell_type": "code",
   "execution_count": 56,
   "id": "362624b8",
   "metadata": {},
   "outputs": [
    {
     "data": {
      "text/html": [
       "<div>\n",
       "<style scoped>\n",
       "    .dataframe tbody tr th:only-of-type {\n",
       "        vertical-align: middle;\n",
       "    }\n",
       "\n",
       "    .dataframe tbody tr th {\n",
       "        vertical-align: top;\n",
       "    }\n",
       "\n",
       "    .dataframe thead th {\n",
       "        text-align: right;\n",
       "    }\n",
       "</style>\n",
       "<table border=\"1\" class=\"dataframe\">\n",
       "  <thead>\n",
       "    <tr style=\"text-align: right;\">\n",
       "      <th></th>\n",
       "      <th>team_id</th>\n",
       "      <th>team_name</th>\n",
       "      <th>first_picks</th>\n",
       "    </tr>\n",
       "  </thead>\n",
       "  <tbody>\n",
       "    <tr>\n",
       "      <th>0</th>\n",
       "      <td>1610612739</td>\n",
       "      <td>Cavaliers</td>\n",
       "      <td>6</td>\n",
       "    </tr>\n",
       "    <tr>\n",
       "      <th>1</th>\n",
       "      <td>1610612758</td>\n",
       "      <td>Royals</td>\n",
       "      <td>5</td>\n",
       "    </tr>\n",
       "    <tr>\n",
       "      <th>2</th>\n",
       "      <td>1610612745</td>\n",
       "      <td>Rockets</td>\n",
       "      <td>5</td>\n",
       "    </tr>\n",
       "    <tr>\n",
       "      <th>3</th>\n",
       "      <td>1610612764</td>\n",
       "      <td>Packers</td>\n",
       "      <td>4</td>\n",
       "    </tr>\n",
       "    <tr>\n",
       "      <th>4</th>\n",
       "      <td>1610612757</td>\n",
       "      <td>Trail Blazers</td>\n",
       "      <td>4</td>\n",
       "    </tr>\n",
       "    <tr>\n",
       "      <th>5</th>\n",
       "      <td>1610612755</td>\n",
       "      <td>76ers</td>\n",
       "      <td>4</td>\n",
       "    </tr>\n",
       "    <tr>\n",
       "      <th>6</th>\n",
       "      <td>1610612753</td>\n",
       "      <td>Magic</td>\n",
       "      <td>4</td>\n",
       "    </tr>\n",
       "    <tr>\n",
       "      <th>7</th>\n",
       "      <td>1610612752</td>\n",
       "      <td>Knicks</td>\n",
       "      <td>4</td>\n",
       "    </tr>\n",
       "    <tr>\n",
       "      <th>8</th>\n",
       "      <td>1610612749</td>\n",
       "      <td>Bucks</td>\n",
       "      <td>4</td>\n",
       "    </tr>\n",
       "    <tr>\n",
       "      <th>9</th>\n",
       "      <td>1610612765</td>\n",
       "      <td>Pistons</td>\n",
       "      <td>3</td>\n",
       "    </tr>\n",
       "    <tr>\n",
       "      <th>10</th>\n",
       "      <td>1610612759</td>\n",
       "      <td>Spurs</td>\n",
       "      <td>3</td>\n",
       "    </tr>\n",
       "    <tr>\n",
       "      <th>11</th>\n",
       "      <td>1610612747</td>\n",
       "      <td>Lakers</td>\n",
       "      <td>3</td>\n",
       "    </tr>\n",
       "    <tr>\n",
       "      <th>12</th>\n",
       "      <td>1610612746</td>\n",
       "      <td>Clippers</td>\n",
       "      <td>3</td>\n",
       "    </tr>\n",
       "    <tr>\n",
       "      <th>13</th>\n",
       "      <td>1610612744</td>\n",
       "      <td>Warriors</td>\n",
       "      <td>3</td>\n",
       "    </tr>\n",
       "    <tr>\n",
       "      <th>14</th>\n",
       "      <td>1610612737</td>\n",
       "      <td>Hawks</td>\n",
       "      <td>3</td>\n",
       "    </tr>\n",
       "    <tr>\n",
       "      <th>15</th>\n",
       "      <td>1610610024</td>\n",
       "      <td>Bullets</td>\n",
       "      <td>3</td>\n",
       "    </tr>\n",
       "    <tr>\n",
       "      <th>16</th>\n",
       "      <td>1610612751</td>\n",
       "      <td>Nets</td>\n",
       "      <td>2</td>\n",
       "    </tr>\n",
       "    <tr>\n",
       "      <th>17</th>\n",
       "      <td>1610612750</td>\n",
       "      <td>Timberwolves</td>\n",
       "      <td>2</td>\n",
       "    </tr>\n",
       "    <tr>\n",
       "      <th>18</th>\n",
       "      <td>1610612741</td>\n",
       "      <td>Bulls</td>\n",
       "      <td>2</td>\n",
       "    </tr>\n",
       "    <tr>\n",
       "      <th>19</th>\n",
       "      <td>1610612740</td>\n",
       "      <td>Hornets</td>\n",
       "      <td>2</td>\n",
       "    </tr>\n",
       "    <tr>\n",
       "      <th>20</th>\n",
       "      <td>1610610032</td>\n",
       "      <td>Steamrollers</td>\n",
       "      <td>2</td>\n",
       "    </tr>\n",
       "    <tr>\n",
       "      <th>21</th>\n",
       "      <td>1610612766</td>\n",
       "      <td>Hornets</td>\n",
       "      <td>1</td>\n",
       "    </tr>\n",
       "    <tr>\n",
       "      <th>22</th>\n",
       "      <td>1610612761</td>\n",
       "      <td>Raptors</td>\n",
       "      <td>1</td>\n",
       "    </tr>\n",
       "    <tr>\n",
       "      <th>23</th>\n",
       "      <td>1610612756</td>\n",
       "      <td>Suns</td>\n",
       "      <td>1</td>\n",
       "    </tr>\n",
       "    <tr>\n",
       "      <th>24</th>\n",
       "      <td>1610612742</td>\n",
       "      <td>Mavericks</td>\n",
       "      <td>1</td>\n",
       "    </tr>\n",
       "    <tr>\n",
       "      <th>25</th>\n",
       "      <td>1610612738</td>\n",
       "      <td>Celtics</td>\n",
       "      <td>1</td>\n",
       "    </tr>\n",
       "    <tr>\n",
       "      <th>26</th>\n",
       "      <td>1610610031</td>\n",
       "      <td>Ironmen</td>\n",
       "      <td>1</td>\n",
       "    </tr>\n",
       "  </tbody>\n",
       "</table>\n",
       "</div>"
      ],
      "text/plain": [
       "       team_id      team_name  first_picks\n",
       "0   1610612739      Cavaliers            6\n",
       "1   1610612758         Royals            5\n",
       "2   1610612745        Rockets            5\n",
       "3   1610612764        Packers            4\n",
       "4   1610612757  Trail Blazers            4\n",
       "5   1610612755          76ers            4\n",
       "6   1610612753          Magic            4\n",
       "7   1610612752         Knicks            4\n",
       "8   1610612749          Bucks            4\n",
       "9   1610612765        Pistons            3\n",
       "10  1610612759          Spurs            3\n",
       "11  1610612747         Lakers            3\n",
       "12  1610612746       Clippers            3\n",
       "13  1610612744       Warriors            3\n",
       "14  1610612737          Hawks            3\n",
       "15  1610610024        Bullets            3\n",
       "16  1610612751           Nets            2\n",
       "17  1610612750   Timberwolves            2\n",
       "18  1610612741          Bulls            2\n",
       "19  1610612740        Hornets            2\n",
       "20  1610610032   Steamrollers            2\n",
       "21  1610612766        Hornets            1\n",
       "22  1610612761        Raptors            1\n",
       "23  1610612756           Suns            1\n",
       "24  1610612742      Mavericks            1\n",
       "25  1610612738        Celtics            1\n",
       "26  1610610031        Ironmen            1"
      ]
     },
     "execution_count": 56,
     "metadata": {},
     "output_type": "execute_result"
    }
   ],
   "source": [
    "import pandas as pd\n",
    "\n",
    "first_picks_df = pd.read_sql_query(query, conn)\n",
    "first_picks_df"
   ]
  },
  {
   "cell_type": "code",
   "execution_count": 55,
   "id": "337080f7",
   "metadata": {},
   "outputs": [
    {
     "data": {
      "image/png": "[encoded data removed]",
      "text/plain": [
       "<Figure size 640x480 with 1 Axes>"
      ]
     },
     "metadata": {},
     "output_type": "display_data"
    }
   ],
   "source": [
    "import seaborn as sns\n",
    "import matplotlib.pyplot as plt\n",
    "\n",
    "sns.barplot(\n",
    "            first_picks_df,\n",
    "            x='team_name',\n",
    "            y='first_picks',\n",
    "        ) \n",
    "plt.xticks(rotation='vertical')\n",
    "plt.show()"
   ]
  },
  {
   "cell_type": "code",
   "execution_count": 72,
   "id": "3f80a03f",
   "metadata": {},
   "outputs": [
    {
     "data": {
      "text/plain": [
       "[('1610612738', 'Celtics', 73),\n",
       " ('1610612752', 'Knicks', 73),\n",
       " ('1610612765', 'Pistons', 62),\n",
       " ('1610612747', 'Lakers', 59),\n",
       " ('1610612755', '76ers', 56)]"
      ]
     },
     "execution_count": 72,
     "metadata": {},
     "output_type": "execute_result"
    }
   ],
   "source": [
    "query = \"\"\" \n",
    "            SELECT th.team_id, dh.team_name, th.year_active_till - th.year_founded AS total_years\n",
    "            FROM team_history AS th\n",
    "            LEFT JOIN draft_history AS dh\n",
    "            ON th.team_id = dh.team_id\n",
    "            GROUP BY dh.team_name, th.team_id\n",
    "            ORDER BY total_years DESC\n",
    "        \"\"\"\n",
    "\n",
    "cursor.execute(query)\n",
    "rows = cursor.fetchall()\n",
    "rows[:5]"
   ]
  },
  {
   "cell_type": "code",
   "execution_count": 73,
   "id": "10043371",
   "metadata": {},
   "outputs": [
    {
     "data": {
      "text/html": [
       "<div>\n",
       "<style scoped>\n",
       "    .dataframe tbody tr th:only-of-type {\n",
       "        vertical-align: middle;\n",
       "    }\n",
       "\n",
       "    .dataframe tbody tr th {\n",
       "        vertical-align: top;\n",
       "    }\n",
       "\n",
       "    .dataframe thead th {\n",
       "        text-align: right;\n",
       "    }\n",
       "</style>\n",
       "<table border=\"1\" class=\"dataframe\">\n",
       "  <thead>\n",
       "    <tr style=\"text-align: right;\">\n",
       "      <th></th>\n",
       "      <th>team_id</th>\n",
       "      <th>team_name</th>\n",
       "      <th>total_years</th>\n",
       "    </tr>\n",
       "  </thead>\n",
       "  <tbody>\n",
       "    <tr>\n",
       "      <th>0</th>\n",
       "      <td>1610612738</td>\n",
       "      <td>Celtics</td>\n",
       "      <td>73</td>\n",
       "    </tr>\n",
       "    <tr>\n",
       "      <th>1</th>\n",
       "      <td>1610612752</td>\n",
       "      <td>Knicks</td>\n",
       "      <td>73</td>\n",
       "    </tr>\n",
       "    <tr>\n",
       "      <th>2</th>\n",
       "      <td>1610612765</td>\n",
       "      <td>Pistons</td>\n",
       "      <td>62</td>\n",
       "    </tr>\n",
       "    <tr>\n",
       "      <th>3</th>\n",
       "      <td>1610612747</td>\n",
       "      <td>Lakers</td>\n",
       "      <td>59</td>\n",
       "    </tr>\n",
       "    <tr>\n",
       "      <th>4</th>\n",
       "      <td>1610612755</td>\n",
       "      <td>76ers</td>\n",
       "      <td>56</td>\n",
       "    </tr>\n",
       "  </tbody>\n",
       "</table>\n",
       "</div>"
      ],
      "text/plain": [
       "      team_id team_name  total_years\n",
       "0  1610612738   Celtics           73\n",
       "1  1610612752    Knicks           73\n",
       "2  1610612765   Pistons           62\n",
       "3  1610612747    Lakers           59\n",
       "4  1610612755     76ers           56"
      ]
     },
     "execution_count": 73,
     "metadata": {},
     "output_type": "execute_result"
    }
   ],
   "source": [
    "team_longevity_df = pd.read_sql_query(query, conn)\n",
    "team_longevity_df[:5]"
   ]
  },
  {
   "cell_type": "code",
   "execution_count": 71,
   "id": "67b49111",
   "metadata": {},
   "outputs": [
    {
     "data": {
      "image/png": "[encoded data removed]",
      "text/plain": [
       "<Figure size 640x480 with 1 Axes>"
      ]
     },
     "metadata": {},
     "output_type": "display_data"
    }
   ],
   "source": [
    "sns.barplot(\n",
    "            team_longevity_df,\n",
    "            x='team_name',\n",
    "            y='total_years',\n",
    "        ) \n",
    "plt.xticks(rotation='vertical')\n",
    "plt.show()"
   ]
  },
  {
   "cell_type": "code",
   "execution_count": null,
   "id": "50287d59",
   "metadata": {},
   "outputs": [],
   "source": []
  }
 ],
 "metadata": {
  "kernelspec": {
   "display_name": ".venv",
   "language": "python",
   "name": "python3"
  },
  "language_info": {
   "codemirror_mode": {
    "name": "ipython",
    "version": 3
   },
   "file_extension": ".py",
   "mimetype": "text/x-python",
   "name": "python",
   "nbconvert_exporter": "python",
   "pygments_lexer": "ipython3",
   "version": "3.13.5"
  }
 },
 "nbformat": 4,
 "nbformat_minor": 5
}
